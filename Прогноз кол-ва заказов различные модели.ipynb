{
 "cells": [
  {
   "cell_type": "markdown",
   "metadata": {},
   "source": [
    "# Импорт библиотек"
   ]
  },
  {
   "cell_type": "code",
   "execution_count": 1,
   "metadata": {},
   "outputs": [
    {
     "name": "stderr",
     "output_type": "stream",
     "text": [
      "c:\\Users\\60126569\\AppData\\Local\\Programs\\Python\\Python311\\Lib\\site-packages\\statsforecast\\core.py:25: TqdmWarning: IProgress not found. Please update jupyter and ipywidgets. See https://ipywidgets.readthedocs.io/en/stable/user_install.html\n",
      "  from tqdm.autonotebook import tqdm\n"
     ]
    }
   ],
   "source": [
    "import pandas as pd\n",
    "import numpy as np\n",
    "import matplotlib.pyplot as plt\n",
    "from sqlalchemy import create_engine\n",
    "from sklearn.model_selection import train_test_split\n",
    "import warnings\n",
    "from darts import TimeSeries\n",
    "from darts.utils.model_selection import train_test_split\n",
    "from darts.utils.statistics import plot_acf\n",
    "import torch\n",
    "from darts.models import CatBoostModel\n",
    "from darts.metrics import mape,  mase\n",
    "from darts.dataprocessing.transformers import Scaler\n",
    "from darts.utils.timeseries_generation import datetime_attribute_timeseries\n",
    "from datetime import datetime, timedelta\n",
    "import logging\n",
    "\n",
    "warnings.simplefilter('ignore')\n",
    "logging.disable(logging.CRITICAL)\n",
    "\n",
    "%matplotlib inline\n",
    "\n",
    "# for reproducibility\n",
    "torch.manual_seed(1)\n",
    "np.random.seed(1)"
   ]
  },
  {
   "cell_type": "markdown",
   "metadata": {},
   "source": [
    "# Необходимые функции"
   ]
  },
  {
   "cell_type": "code",
   "execution_count": 2,
   "metadata": {},
   "outputs": [],
   "source": [
    "# Креды\n",
    "def secreet_read(file):\n",
    "    result = {}\n",
    "    with open(file, 'r') as f:\n",
    "        lines = f.readlines()\n",
    "    for i, line in enumerate(lines, 1):\n",
    "        key, value = map(str.strip, line.split(':'))\n",
    "        result[key] = value\n",
    "    return result"
   ]
  },
  {
   "cell_type": "code",
   "execution_count": 3,
   "metadata": {},
   "outputs": [],
   "source": [
    "class SolutionConnector:\n",
    "    def __init__(self, a\n",
    "                 ) -> None:\n",
    "        self.a =a\n",
    "        user = self.a.get(\"user\")\n",
    "        password = self.a.get(\"password\")\n",
    "        host = self.a.get(\"host\")\n",
    "        dbname = self.a.get(\"dbname\")\n",
    "        port = self.a.get(\"port\")\n",
    "        self.engine = create_engine(f'postgresql+psycopg2://{user}:{password}@{host}:{port}/{dbname}')\n",
    "\n",
    "    def execute(self, query:str):\n",
    "        try:\n",
    "            select = pd.read_sql(query, self.engine)\n",
    "        except Exception as e:\n",
    "            print(f'Падение по причине {e}')\n",
    "        return select"
   ]
  },
  {
   "cell_type": "code",
   "execution_count": 4,
   "metadata": {},
   "outputs": [],
   "source": [
    "sql_query = f\"\"\"\n",
    "select \"date\"\n",
    "\t, \"№ Магазин исполнитель\"\n",
    "\t, \"Способ создания заказа\"\n",
    "\t, \"Способ получения заказа\"\n",
    "\t, case \n",
    "\t\twhen customer_type = 'Физическое Лицо' then 'B2C'\n",
    "\t\twhen customer_type = 'Юридическое Лицо' then 'B2B'\n",
    "\t\twhen customer_type = 'PROFI' then 'Profi'     \n",
    "\t\telse 'B2C'\n",
    "\t\tend as \"Тип клиента\"\n",
    "    , qnt_order    \n",
    "\tfrom (\n",
    "\t\tselect order_create_dttm::date AS \"date\"\n",
    "\t\t    , executed_by_store_id::int AS \"№ Магазин исполнитель\"\n",
    "\t\t    , order_channel_name AS \"Способ создания заказа\"\n",
    "\t\t    , order_receive_type_name AS \"Способ получения заказа\"\n",
    "\t\t    , customer_type \n",
    "\t\t\t, COUNT(DISTINCT order_id) AS qnt_order\n",
    "\t\t  FROM superset.order_superset\n",
    "\t\t  WHERE 1=1\n",
    "\t\t  and order_create_dt between date_trunc ('month', current_date - interval '17 month') and current_date- interval '1 day'\n",
    "\t\t  and executed_by_store_id::int not in (44,45,90,62,13,159,131,139,162,251,252,253,257,263,264) \n",
    "          --and order_status_name != 'Отменён'\n",
    "\t\t  --and executed_by_store_id::int = 2\n",
    "\t\tgroup by 1,2,3,4,5\n",
    "\t\t) h;\n",
    "\"\"\""
   ]
  },
  {
   "cell_type": "code",
   "execution_count": 5,
   "metadata": {},
   "outputs": [],
   "source": [
    "secreet = secreet_read('креды.txt')"
   ]
  },
  {
   "cell_type": "code",
   "execution_count": 6,
   "metadata": {},
   "outputs": [],
   "source": [
    "def dataset_info(frame):\n",
    "    '''\n",
    "    Создаёт описание датасета: шейп, дубликаты пропущенные зачения, типы данных в поле\n",
    "    вход: датафрейм\n",
    "    выход: описание\n",
    "    '''\n",
    "    print(f'rows/columns: {frame.shape}')\n",
    "    print(f'duplicated rows: {frame.duplicated().sum()}')\n",
    "    print('--------------------------')\n",
    "    print('data types in columns:')\n",
    "    print('---')\n",
    "    print(frame.dtypes)\n",
    "    print('--------------------------')\n",
    "    print('NA values in columns:')\n",
    "    print('---')\n",
    "    print(frame.isna().sum())\n",
    "\n"
   ]
  },
  {
   "cell_type": "code",
   "execution_count": 7,
   "metadata": {},
   "outputs": [],
   "source": [
    "def drop_dublicates(frame):\n",
    "    '''\n",
    "    Проверяет сет на наличие дупликатов при обнаружении удаляет их\n",
    "    вход: датасет\n",
    "    выход: датасет без дубликатов\n",
    "    '''\n",
    "    if frame.duplicated().sum() !=0:\n",
    "        return frame.drop_duplicates(inplace=True)\n",
    "    else:\n",
    "        return print('дубликаты отсутствуют')"
   ]
  },
  {
   "cell_type": "code",
   "execution_count": 8,
   "metadata": {},
   "outputs": [],
   "source": [
    "# вычисляет понедельники для дальнейшего определения календарной недели по ISO\n",
    "def first_day_of_iso_week(date):\n",
    "    day_of_week = date.weekday() # Вычисляем день недели (0 - понедельник, 6 - воскресенье)\n",
    "    first_day_of_week = date - timedelta(days=day_of_week) # Вычитаем день недели из текущей даты, чтобы получить первый день календарной недели\n",
    "    return first_day_of_week"
   ]
  },
  {
   "cell_type": "code",
   "execution_count": 9,
   "metadata": {},
   "outputs": [],
   "source": [
    "\n",
    "def clean_nan_ts(ser):\n",
    "    '''\n",
    "    Проверяет каждую серию в массиве на наличие nan\n",
    "    вход: двумерный массив \n",
    "    выход:  двумерный массив без серий содержащих nan значения \n",
    "    '''\n",
    "    cleaned_series = [ts for ts in ser if not ts.pd_series().isnull().values.any()]\n",
    "    return cleaned_series"
   ]
  },
  {
   "cell_type": "code",
   "execution_count": 10,
   "metadata": {},
   "outputs": [],
   "source": [
    "def clean_nan_df(frame):\n",
    "    if len(frame[frame.iloc[:,0].isna()==True]) > 0:\n",
    "        frame.fillna(0, inplace=True)\n",
    "    else:\n",
    "        print('значения NaN отсутствуют')"
   ]
  },
  {
   "cell_type": "markdown",
   "metadata": {},
   "source": [
    "# Данные"
   ]
  },
  {
   "cell_type": "markdown",
   "metadata": {},
   "source": [
    "## Получение данных"
   ]
  },
  {
   "cell_type": "code",
   "execution_count": 11,
   "metadata": {},
   "outputs": [],
   "source": [
    "solution_conn = SolutionConnector(secreet)\n",
    "data_full = solution_conn.execute(sql_query)"
   ]
  },
  {
   "cell_type": "markdown",
   "metadata": {},
   "source": [
    "## Подготовка данных"
   ]
  },
  {
   "cell_type": "code",
   "execution_count": 12,
   "metadata": {},
   "outputs": [
    {
     "name": "stdout",
     "output_type": "stream",
     "text": [
      "rows/columns: (576984, 6)\n",
      "duplicated rows: 0\n",
      "--------------------------\n",
      "data types in columns:\n",
      "---\n",
      "date                       object\n",
      "№ Магазин исполнитель       int64\n",
      "Способ создания заказа     object\n",
      "Способ получения заказа    object\n",
      "Тип клиента                object\n",
      "qnt_order                   int64\n",
      "dtype: object\n",
      "--------------------------\n",
      "NA values in columns:\n",
      "---\n",
      "date                       0\n",
      "№ Магазин исполнитель      0\n",
      "Способ создания заказа     0\n",
      "Способ получения заказа    0\n",
      "Тип клиента                0\n",
      "qnt_order                  0\n",
      "dtype: int64\n"
     ]
    }
   ],
   "source": [
    "dataset_info(data_full)"
   ]
  },
  {
   "cell_type": "code",
   "execution_count": 13,
   "metadata": {},
   "outputs": [],
   "source": [
    "data_full['first_day'] = data_full['date'].apply(first_day_of_iso_week) # находим начало недели\n",
    "data_week = data_full.drop('date', axis=1) # удаляем ненужное больше поле даты"
   ]
  },
  {
   "cell_type": "code",
   "execution_count": 14,
   "metadata": {},
   "outputs": [],
   "source": [
    "# агрегируем данные и приводим поле даты в нужный формат\n",
    "data_agg_week = data_week.groupby(['first_day', '№ Магазин исполнитель', 'Способ создания заказа', 'Способ получения заказа', 'Тип клиента']).sum().reset_index()\n",
    "data_agg_week['first_day'] = pd.to_datetime(data_agg_week['first_day'])"
   ]
  },
  {
   "cell_type": "code",
   "execution_count": 15,
   "metadata": {},
   "outputs": [
    {
     "name": "stdout",
     "output_type": "stream",
     "text": [
      "rows/columns: (88152, 6)\n",
      "duplicated rows: 0\n",
      "--------------------------\n",
      "data types in columns:\n",
      "---\n",
      "first_day                  datetime64[ns]\n",
      "№ Магазин исполнитель               int64\n",
      "Способ создания заказа             object\n",
      "Способ получения заказа            object\n",
      "Тип клиента                        object\n",
      "qnt_order                           int64\n",
      "dtype: object\n",
      "--------------------------\n",
      "NA values in columns:\n",
      "---\n",
      "first_day                  0\n",
      "№ Магазин исполнитель      0\n",
      "Способ создания заказа     0\n",
      "Способ получения заказа    0\n",
      "Тип клиента                0\n",
      "qnt_order                  0\n",
      "dtype: int64\n",
      "дубликаты отсутствуют\n",
      "значения NaN отсутствуют\n"
     ]
    }
   ],
   "source": [
    "#смотрим инфо, проверяем на дубликаты, первично обрабатываем nan\n",
    "dataset_info(data_agg_week)\n",
    "drop_dublicates(data_agg_week)\n",
    "clean_nan_df(data_agg_week)"
   ]
  },
  {
   "cell_type": "markdown",
   "metadata": {},
   "source": [
    "## Временные ряды: преобразование и очистка"
   ]
  },
  {
   "cell_type": "code",
   "execution_count": 16,
   "metadata": {},
   "outputs": [],
   "source": [
    "# преобразовываем датафрейм в двхумерный массив\n",
    "df_time_series = TimeSeries.from_group_dataframe(data_agg_week\n",
    "                                            , group_cols=['№ Магазин исполнитель', 'Способ создания заказа', 'Способ получения заказа', 'Тип клиента']\n",
    "                                            , time_col = 'first_day'\n",
    "                                            , value_cols= 'qnt_order'\n",
    "                                            , fill_missing_dates=True\n",
    "                                            , freq= 'W-MON'\n",
    "                                            )"
   ]
  },
  {
   "cell_type": "code",
   "execution_count": 17,
   "metadata": {},
   "outputs": [],
   "source": [
    "#Оставляем в массиве серии необходимой длинны (72 недели)\n",
    "true_len_ser = [i for i in df_time_series if len(i) >= 72]"
   ]
  },
  {
   "cell_type": "code",
   "execution_count": 18,
   "metadata": {},
   "outputs": [],
   "source": [
    "# чистим массив от серий с nan значениями и смотрим соотношение до и после\n",
    "df_coreckt = clean_nan_ts(true_len_ser)"
   ]
  },
  {
   "cell_type": "code",
   "execution_count": 19,
   "metadata": {},
   "outputs": [],
   "source": [
    "# сплитование DF\n",
    "\n",
    "split_multi_df = train_test_split(df_coreckt, axis=1)\n",
    "df_train = split_multi_df[0]\n",
    "df_test = split_multi_df[1]"
   ]
  },
  {
   "cell_type": "code",
   "execution_count": null,
   "metadata": {},
   "outputs": [],
   "source": [
    "# логирование данных перед подачей в модель\n",
    "output_file = \"C:/Users/60126569/Мои скрипты/all_data_2.parquet\"\n",
    "data_a.to_parquet(output_file)"
   ]
  },
  {
   "cell_type": "code",
   "execution_count": null,
   "metadata": {},
   "outputs": [],
   "source": []
  },
  {
   "cell_type": "markdown",
   "metadata": {},
   "source": [
    "# Обучение моделей"
   ]
  },
  {
   "cell_type": "markdown",
   "metadata": {},
   "source": [
    "## Catboost"
   ]
  },
  {
   "cell_type": "code",
   "execution_count": 20,
   "metadata": {},
   "outputs": [],
   "source": [
    "catboost_params = {\n",
    "    'iterations': 3000,\n",
    "    'depth': 3,\n",
    "    'learning_rate': 0.02,\n",
    "    'l2_leaf_reg': 4.5,\n",
    "    'random_strength': 1.6,\n",
    "    'bagging_temperature': 1.8,\n",
    "    #'grow_policy': 'SymmetricTree',\n",
    "    'verbose': 0,\n",
    "    #'max_bin':255,  \n",
    "}\n",
    "\n",
    "model_catboost = CatBoostModel(lags=[-1, -5, -14, -26, -39, -51]\n",
    "                               , lags_past_covariates=[-1, -5, -14, -26, -39, -51]\n",
    "                               #, lags_future_covariates=[1, 5]\n",
    "                               , use_static_covariates=False\n",
    "                               , random_seed=700\n",
    "                               , **catboost_params\n",
    "                               )\n",
    "\n"
   ]
  },
  {
   "cell_type": "code",
   "execution_count": 21,
   "metadata": {},
   "outputs": [
    {
     "data": {
      "text/plain": [
       "CatBoostModel(lags=[-1, -5, -14, -26, -39, -51], lags_past_covariates=[-1, -5, -14, -26, -39, -51], lags_future_covariates=None, output_chunk_length=1, add_encoders=None, likelihood=None, quantiles=None, random_state=None, multi_models=True, use_static_covariates=False, random_seed=700, iterations=3000, depth=3, learning_rate=0.02, l2_leaf_reg=4.5, random_strength=1.6, bagging_temperature=1.8, verbose=0)"
      ]
     },
     "execution_count": 21,
     "metadata": {},
     "output_type": "execute_result"
    }
   ],
   "source": [
    "model_catboost.fit(df_train\n",
    "                   , past_covariates=df_coreckt\n",
    "                   #, future_covariates=df_multi_scaled\n",
    "                   )"
   ]
  },
  {
   "cell_type": "code",
   "execution_count": 22,
   "metadata": {},
   "outputs": [],
   "source": [
    "pred_cat_glob = model_catboost.predict( 13\n",
    "                                       , df_train\n",
    "                                       , past_covariates=df_coreckt\n",
    "                                       #, future_covariates=df_multi_scaled\n",
    "                                       )"
   ]
  },
  {
   "cell_type": "code",
   "execution_count": 23,
   "metadata": {},
   "outputs": [
    {
     "data": {
      "text/plain": [
       "1.0518524615103249"
      ]
     },
     "execution_count": 23,
     "metadata": {},
     "output_type": "execute_result"
    }
   ],
   "source": [
    "np.mean(mase(df_coreckt, pred_cat_glob, insample=df_train))"
   ]
  },
  {
   "cell_type": "code",
   "execution_count": 25,
   "metadata": {},
   "outputs": [],
   "source": [
    "pred_cat_1 = model_catboost.predict(13\n",
    "                                    , df_train[1050] #split_multi_df[0][1050]\n",
    "                                    , past_covariates=df_coreckt[1050]\n",
    "                                    #, future_covariates=df_multi_scaled[1053]\n",
    "                                    )"
   ]
  },
  {
   "cell_type": "code",
   "execution_count": 26,
   "metadata": {},
   "outputs": [
    {
     "data": {
      "text/plain": [
       "5.3939407825899375"
      ]
     },
     "execution_count": 26,
     "metadata": {},
     "output_type": "execute_result"
    },
    {
     "data": {
      "image/png": "[encoded data removed]",
      "text/plain": [
       "<Figure size 1600x700 with 1 Axes>"
      ]
     },
     "metadata": {},
     "output_type": "display_data"
    }
   ],
   "source": [
    "plt.figure(figsize=(16,7))\n",
    "df_coreckt[1050].plot(label='actual')\n",
    "pred_cat_1.plot(label='forecast')\n",
    "plt.legend()\n",
    "mape(df_test[1050], pred_cat_1)"
   ]
  },
  {
   "cell_type": "markdown",
   "metadata": {},
   "source": [
    "## ******"
   ]
  },
  {
   "cell_type": "code",
   "execution_count": null,
   "metadata": {},
   "outputs": [],
   "source": [
    "# преобразование массива временных рядов в датафрейм\n",
    "\n",
    "def time_series_to_data_frame(t_s, *args):\n",
    "    df_final = []\n",
    "    b = args\n",
    "    for i in t_s:\n",
    "        dg = i.pd_dataframe().reset_index()\n",
    "        dg[b] = i.static_covariates.reset_index(drop=True).values.flatten()\n",
    "        df_final.append(dg)\n",
    "    return pd.concat(df_final).reset_index(drop=True)\n",
    "\n",
    "\n",
    "\n",
    "#=================================================================\n",
    "\n",
    "\n"
   ]
  },
  {
   "cell_type": "code",
   "execution_count": 27,
   "metadata": {},
   "outputs": [
    {
     "data": {
      "text/html": [
       "<div>\n",
       "<style scoped>\n",
       "    .dataframe tbody tr th:only-of-type {\n",
       "        vertical-align: middle;\n",
       "    }\n",
       "\n",
       "    .dataframe tbody tr th {\n",
       "        vertical-align: top;\n",
       "    }\n",
       "\n",
       "    .dataframe thead th {\n",
       "        text-align: right;\n",
       "    }\n",
       "</style>\n",
       "<table border=\"1\" class=\"dataframe\">\n",
       "  <thead>\n",
       "    <tr style=\"text-align: right;\">\n",
       "      <th>component</th>\n",
       "      <th>first_day</th>\n",
       "      <th>qnt_order</th>\n",
       "      <th>№ Магазин исполнитель</th>\n",
       "      <th>Способ создания заказа</th>\n",
       "      <th>Способ получения заказа</th>\n",
       "      <th>Тип клиента</th>\n",
       "    </tr>\n",
       "  </thead>\n",
       "  <tbody>\n",
       "    <tr>\n",
       "      <th>0</th>\n",
       "      <td>2023-07-03</td>\n",
       "      <td>53.133883</td>\n",
       "      <td>2.0</td>\n",
       "      <td>Онлайн</td>\n",
       "      <td>Доставка (трансп. компания)</td>\n",
       "      <td>B2B</td>\n",
       "    </tr>\n",
       "    <tr>\n",
       "      <th>1</th>\n",
       "      <td>2023-07-10</td>\n",
       "      <td>55.894766</td>\n",
       "      <td>2.0</td>\n",
       "      <td>Онлайн</td>\n",
       "      <td>Доставка (трансп. компания)</td>\n",
       "      <td>B2B</td>\n",
       "    </tr>\n",
       "    <tr>\n",
       "      <th>2</th>\n",
       "      <td>2023-07-17</td>\n",
       "      <td>66.342368</td>\n",
       "      <td>2.0</td>\n",
       "      <td>Онлайн</td>\n",
       "      <td>Доставка (трансп. компания)</td>\n",
       "      <td>B2B</td>\n",
       "    </tr>\n",
       "    <tr>\n",
       "      <th>3</th>\n",
       "      <td>2023-07-24</td>\n",
       "      <td>60.121824</td>\n",
       "      <td>2.0</td>\n",
       "      <td>Онлайн</td>\n",
       "      <td>Доставка (трансп. компания)</td>\n",
       "      <td>B2B</td>\n",
       "    </tr>\n",
       "    <tr>\n",
       "      <th>4</th>\n",
       "      <td>2023-07-31</td>\n",
       "      <td>55.658162</td>\n",
       "      <td>2.0</td>\n",
       "      <td>Онлайн</td>\n",
       "      <td>Доставка (трансп. компания)</td>\n",
       "      <td>B2B</td>\n",
       "    </tr>\n",
       "    <tr>\n",
       "      <th>...</th>\n",
       "      <td>...</td>\n",
       "      <td>...</td>\n",
       "      <td>...</td>\n",
       "      <td>...</td>\n",
       "      <td>...</td>\n",
       "      <td>...</td>\n",
       "    </tr>\n",
       "    <tr>\n",
       "      <th>14165</th>\n",
       "      <td>2023-08-28</td>\n",
       "      <td>55.334811</td>\n",
       "      <td>181.0</td>\n",
       "      <td>Оффлайн</td>\n",
       "      <td>Самовывоз</td>\n",
       "      <td>Profi</td>\n",
       "    </tr>\n",
       "    <tr>\n",
       "      <th>14166</th>\n",
       "      <td>2023-09-04</td>\n",
       "      <td>55.909593</td>\n",
       "      <td>181.0</td>\n",
       "      <td>Оффлайн</td>\n",
       "      <td>Самовывоз</td>\n",
       "      <td>Profi</td>\n",
       "    </tr>\n",
       "    <tr>\n",
       "      <th>14167</th>\n",
       "      <td>2023-09-11</td>\n",
       "      <td>53.326484</td>\n",
       "      <td>181.0</td>\n",
       "      <td>Оффлайн</td>\n",
       "      <td>Самовывоз</td>\n",
       "      <td>Profi</td>\n",
       "    </tr>\n",
       "    <tr>\n",
       "      <th>14168</th>\n",
       "      <td>2023-09-18</td>\n",
       "      <td>57.969111</td>\n",
       "      <td>181.0</td>\n",
       "      <td>Оффлайн</td>\n",
       "      <td>Самовывоз</td>\n",
       "      <td>Profi</td>\n",
       "    </tr>\n",
       "    <tr>\n",
       "      <th>14169</th>\n",
       "      <td>2023-09-25</td>\n",
       "      <td>61.409197</td>\n",
       "      <td>181.0</td>\n",
       "      <td>Оффлайн</td>\n",
       "      <td>Самовывоз</td>\n",
       "      <td>Profi</td>\n",
       "    </tr>\n",
       "  </tbody>\n",
       "</table>\n",
       "<p>14170 rows × 6 columns</p>\n",
       "</div>"
      ],
      "text/plain": [
       "component  first_day  qnt_order № Магазин исполнитель Способ создания заказа  \\\n",
       "0         2023-07-03  53.133883                   2.0                 Онлайн   \n",
       "1         2023-07-10  55.894766                   2.0                 Онлайн   \n",
       "2         2023-07-17  66.342368                   2.0                 Онлайн   \n",
       "3         2023-07-24  60.121824                   2.0                 Онлайн   \n",
       "4         2023-07-31  55.658162                   2.0                 Онлайн   \n",
       "...              ...        ...                   ...                    ...   \n",
       "14165     2023-08-28  55.334811                 181.0                Оффлайн   \n",
       "14166     2023-09-04  55.909593                 181.0                Оффлайн   \n",
       "14167     2023-09-11  53.326484                 181.0                Оффлайн   \n",
       "14168     2023-09-18  57.969111                 181.0                Оффлайн   \n",
       "14169     2023-09-25  61.409197                 181.0                Оффлайн   \n",
       "\n",
       "component      Способ получения заказа Тип клиента  \n",
       "0          Доставка (трансп. компания)         B2B  \n",
       "1          Доставка (трансп. компания)         B2B  \n",
       "2          Доставка (трансп. компания)         B2B  \n",
       "3          Доставка (трансп. компания)         B2B  \n",
       "4          Доставка (трансп. компания)         B2B  \n",
       "...                                ...         ...  \n",
       "14165                        Самовывоз       Profi  \n",
       "14166                        Самовывоз       Profi  \n",
       "14167                        Самовывоз       Profi  \n",
       "14168                        Самовывоз       Profi  \n",
       "14169                        Самовывоз       Profi  \n",
       "\n",
       "[14170 rows x 6 columns]"
      ]
     },
     "execution_count": 27,
     "metadata": {},
     "output_type": "execute_result"
    }
   ],
   "source": [
    "df_final = []\n",
    "for i in pred_cat_glob:\n",
    "    dg = i.pd_dataframe().reset_index()\n",
    "    dg[['№ Магазин исполнитель', 'Способ создания заказа','Способ получения заказа', 'Тип клиента']] = i.static_covariates.reset_index(drop=True).values.flatten()\n",
    "    df_final.append(dg)\n",
    "pd.concat(df_final).reset_index(drop=True)\n"
   ]
  },
  {
   "cell_type": "code",
   "execution_count": null,
   "metadata": {},
   "outputs": [],
   "source": [
    "# финальная выгрузка\n",
    "output_file = \"C:/Users/60126569/Мои скрипты/all_data_2.parquet\"\n",
    "data_a.to_parquet(output_file)"
   ]
  }
 ],
 "metadata": {
  "kernelspec": {
   "display_name": "Python 3",
   "language": "python",
   "name": "python3"
  },
  "language_info": {
   "codemirror_mode": {
    "name": "ipython",
    "version": 3
   },
   "file_extension": ".py",
   "mimetype": "text/x-python",
   "name": "python",
   "nbconvert_exporter": "python",
   "pygments_lexer": "ipython3",
   "version": "3.11.6"
  }
 },
 "nbformat": 4,
 "nbformat_minor": 2
}
